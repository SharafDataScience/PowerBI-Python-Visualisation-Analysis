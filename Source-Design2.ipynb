{
 "cells": [
  {
   "cell_type": "markdown",
   "id": "322df33a",
   "metadata": {},
   "source": [
    "# libraries and packages need"
   ]
  },
  {
   "cell_type": "code",
   "execution_count": null,
   "id": "d43ebc81",
   "metadata": {},
   "outputs": [],
   "source": [
    "pip install altair"
   ]
  },
  {
   "cell_type": "code",
   "execution_count": null,
   "id": "ebee87ab",
   "metadata": {},
   "outputs": [],
   "source": [
    "pip install vega_datasets"
   ]
  },
  {
   "cell_type": "code",
   "execution_count": 3,
   "id": "b5649b6b",
   "metadata": {},
   "outputs": [],
   "source": [
    "# importing libraries\n",
    "import pandas as pd\n",
    "import altair as alt\n",
    "from vega_datasets import data"
   ]
  },
  {
   "cell_type": "markdown",
   "id": "844929f5",
   "metadata": {},
   "source": [
    "# Load the datasets"
   ]
  },
  {
   "cell_type": "code",
   "execution_count": 5,
   "id": "b96a4761",
   "metadata": {},
   "outputs": [],
   "source": [
    "# Load the datasets \n",
    "payments_df = pd.read_csv('D:\\Swansea University 2023-2024\\Visulisation\\Datasets\\olist_order_payments_dataset.csv')\n",
    "orders_df = pd.read_csv('D:\\Swansea University 2023-2024\\Visulisation\\Datasets\\olist_orders_dataset.csv')\n",
    "products_df = pd.read_csv('D:\\Swansea University 2023-2024\\Visulisation\\Datasets\\olist_products_dataset.csv')\n",
    "order_items_df = pd.read_csv('D:\\Swansea University 2023-2024\\Visulisation\\Datasets\\olist_order_items_dataset.csv') \n"
   ]
  },
  {
   "cell_type": "markdown",
   "id": "7982c8e5",
   "metadata": {},
   "source": [
    "# Visulisation heatmap chart by altair"
   ]
  },
  {
   "cell_type": "code",
   "execution_count": 6,
   "id": "64c4a3fa",
   "metadata": {},
   "outputs": [
    {
     "data": {
      "text/html": [
       "\n",
       "<style>\n",
       "  #altair-viz-69d48a4a7dcd40eea38aa6977ff5bf9f.vega-embed {\n",
       "    width: 100%;\n",
       "    display: flex;\n",
       "  }\n",
       "\n",
       "  #altair-viz-69d48a4a7dcd40eea38aa6977ff5bf9f.vega-embed details,\n",
       "  #altair-viz-69d48a4a7dcd40eea38aa6977ff5bf9f.vega-embed details summary {\n",
       "    position: relative;\n",
       "  }\n",
       "</style>\n",
       "<div id=\"altair-viz-69d48a4a7dcd40eea38aa6977ff5bf9f\"></div>\n",
       "<script type=\"text/javascript\">\n",
       "  var VEGA_DEBUG = (typeof VEGA_DEBUG == \"undefined\") ? {} : VEGA_DEBUG;\n",
       "  (function(spec, embedOpt){\n",
       "    let outputDiv = document.currentScript.previousElementSibling;\n",
       "    if (outputDiv.id !== \"altair-viz-69d48a4a7dcd40eea38aa6977ff5bf9f\") {\n",
       "      outputDiv = document.getElementById(\"altair-viz-69d48a4a7dcd40eea38aa6977ff5bf9f\");\n",
       "    }\n",
       "    const paths = {\n",
       "      \"vega\": \"https://cdn.jsdelivr.net/npm/vega@5?noext\",\n",
       "      \"vega-lib\": \"https://cdn.jsdelivr.net/npm/vega-lib?noext\",\n",
       "      \"vega-lite\": \"https://cdn.jsdelivr.net/npm/vega-lite@5.16.3?noext\",\n",
       "      \"vega-embed\": \"https://cdn.jsdelivr.net/npm/vega-embed@6?noext\",\n",
       "    };\n",
       "\n",
       "    function maybeLoadScript(lib, version) {\n",
       "      var key = `${lib.replace(\"-\", \"\")}_version`;\n",
       "      return (VEGA_DEBUG[key] == version) ?\n",
       "        Promise.resolve(paths[lib]) :\n",
       "        new Promise(function(resolve, reject) {\n",
       "          var s = document.createElement('script');\n",
       "          document.getElementsByTagName(\"head\")[0].appendChild(s);\n",
       "          s.async = true;\n",
       "          s.onload = () => {\n",
       "            VEGA_DEBUG[key] = version;\n",
       "            return resolve(paths[lib]);\n",
       "          };\n",
       "          s.onerror = () => reject(`Error loading script: ${paths[lib]}`);\n",
       "          s.src = paths[lib];\n",
       "        });\n",
       "    }\n",
       "\n",
       "    function showError(err) {\n",
       "      outputDiv.innerHTML = `<div class=\"error\" style=\"color:red;\">${err}</div>`;\n",
       "      throw err;\n",
       "    }\n",
       "\n",
       "    function displayChart(vegaEmbed) {\n",
       "      vegaEmbed(outputDiv, spec, embedOpt)\n",
       "        .catch(err => showError(`Javascript Error: ${err.message}<br>This usually means there's a typo in your chart specification. See the javascript console for the full traceback.`));\n",
       "    }\n",
       "\n",
       "    if(typeof define === \"function\" && define.amd) {\n",
       "      requirejs.config({paths});\n",
       "      require([\"vega-embed\"], displayChart, err => showError(`Error loading script: ${err.message}`));\n",
       "    } else {\n",
       "      maybeLoadScript(\"vega\", \"5\")\n",
       "        .then(() => maybeLoadScript(\"vega-lite\", \"5.16.3\"))\n",
       "        .then(() => maybeLoadScript(\"vega-embed\", \"6\"))\n",
       "        .catch(showError)\n",
       "        .then(() => displayChart(vegaEmbed));\n",
       "    }\n",
       "  })({\"config\": {\"view\": {\"continuousWidth\": 300, \"continuousHeight\": 300}}, \"vconcat\": [{\"layer\": [{\"mark\": {\"type\": \"rect\"}, \"encoding\": {\"color\": {\"field\": \"payment_value\", \"legend\": {\"labelFontSize\": 13, \"titleFontSize\": 17}, \"scale\": {\"scheme\": \"yellowgreenblue\"}, \"title\": \"PaymentValue\", \"type\": \"quantitative\"}, \"tooltip\": [{\"field\": \"purchase_day\", \"type\": \"quantitative\"}, {\"field\": \"product_category_name\", \"type\": \"nominal\"}, {\"field\": \"payment_value\", \"type\": \"quantitative\"}], \"x\": {\"axis\": {\"labelFontSize\": 15, \"titleFontSize\": 18}, \"field\": \"purchase_day\", \"title\": \"Day of November\", \"type\": \"ordinal\"}, \"y\": {\"axis\": {\"labelFontSize\": 15, \"titleFontSize\": 18}, \"field\": \"product_category_name\", \"title\": \"Product Category\", \"type\": \"nominal\"}}, \"title\": {\"text\": [\"Top Two Selling Categories in November 2017\"], \"subtitle\": [\"Olist E-commerce in Brazil [Brazilian Currency]\"], \"color\": \"black\", \"subtitleColor\": \"black\", \"fontSize\": 22, \"subtitleFontSize\": 19}}, {\"mark\": {\"type\": \"text\", \"angle\": 270, \"baseline\": \"middle\"}, \"encoding\": {\"color\": {\"condition\": {\"test\": \"datum.is_max\", \"value\": \"white\"}, \"value\": \"black\"}, \"text\": {\"field\": \"payment_value\", \"format\": \",.0f\", \"type\": \"quantitative\"}, \"x\": {\"field\": \"purchase_day\", \"type\": \"ordinal\"}, \"y\": {\"field\": \"product_category_name\", \"type\": \"nominal\"}}}], \"data\": {\"name\": \"data-8673bc349659b46ad4e770b4b08305f7\"}, \"height\": 450, \"resolve\": {\"scale\": {\"x\": \"shared\", \"y\": \"shared\"}}, \"width\": 900}, {\"data\": {\"name\": \"data-35e25874c2ef5f8c06cc1b633eb62c43\"}, \"mark\": {\"type\": \"text\", \"align\": \"left\", \"size\": 18}, \"encoding\": {\"text\": {\"field\": \"text\", \"type\": \"nominal\"}}, \"height\": 20}], \"spacing\": 5, \"$schema\": \"https://vega.github.io/schema/vega-lite/v5.16.3.json\", \"datasets\": {\"data-8673bc349659b46ad4e770b4b08305f7\": [{\"purchase_day\": 1, \"product_category_name\": \"cama_mesa_banho\", \"payment_value\": 1901.6, \"is_max\": false}, {\"purchase_day\": 1, \"product_category_name\": \"moveis_decoracao\", \"payment_value\": 441.78, \"is_max\": false}, {\"purchase_day\": 2, \"product_category_name\": \"cama_mesa_banho\", \"payment_value\": 3647.14, \"is_max\": false}, {\"purchase_day\": 2, \"product_category_name\": \"moveis_decoracao\", \"payment_value\": 1227.24, \"is_max\": false}, {\"purchase_day\": 3, \"product_category_name\": \"cama_mesa_banho\", \"payment_value\": 2967.39, \"is_max\": false}, {\"purchase_day\": 3, \"product_category_name\": \"moveis_decoracao\", \"payment_value\": 2705.99, \"is_max\": false}, {\"purchase_day\": 4, \"product_category_name\": \"cama_mesa_banho\", \"payment_value\": 2591.63, \"is_max\": false}, {\"purchase_day\": 4, \"product_category_name\": \"moveis_decoracao\", \"payment_value\": 993.6600000000001, \"is_max\": false}, {\"purchase_day\": 5, \"product_category_name\": \"cama_mesa_banho\", \"payment_value\": 2707.29, \"is_max\": false}, {\"purchase_day\": 5, \"product_category_name\": \"moveis_decoracao\", \"payment_value\": 1348.1299999999999, \"is_max\": false}, {\"purchase_day\": 6, \"product_category_name\": \"cama_mesa_banho\", \"payment_value\": 2340.88, \"is_max\": false}, {\"purchase_day\": 6, \"product_category_name\": \"moveis_decoracao\", \"payment_value\": 2627.77, \"is_max\": false}, {\"purchase_day\": 7, \"product_category_name\": \"moveis_decoracao\", \"payment_value\": 1002.46, \"is_max\": false}, {\"purchase_day\": 7, \"product_category_name\": \"cama_mesa_banho\", \"payment_value\": 3876.62, \"is_max\": false}, {\"purchase_day\": 8, \"product_category_name\": \"cama_mesa_banho\", \"payment_value\": 11697.02, \"is_max\": false}, {\"purchase_day\": 8, \"product_category_name\": \"moveis_decoracao\", \"payment_value\": 3257.47, \"is_max\": false}, {\"purchase_day\": 9, \"product_category_name\": \"cama_mesa_banho\", \"payment_value\": 4394.49, \"is_max\": false}, {\"purchase_day\": 9, \"product_category_name\": \"moveis_decoracao\", \"payment_value\": 1403.19, \"is_max\": false}, {\"purchase_day\": 10, \"product_category_name\": \"cama_mesa_banho\", \"payment_value\": 828.79, \"is_max\": false}, {\"purchase_day\": 10, \"product_category_name\": \"moveis_decoracao\", \"payment_value\": 4269.52, \"is_max\": false}, {\"purchase_day\": 11, \"product_category_name\": \"cama_mesa_banho\", \"payment_value\": 2537.55, \"is_max\": false}, {\"purchase_day\": 11, \"product_category_name\": \"moveis_decoracao\", \"payment_value\": 1347.25, \"is_max\": false}, {\"purchase_day\": 12, \"product_category_name\": \"cama_mesa_banho\", \"payment_value\": 1130.13, \"is_max\": false}, {\"purchase_day\": 12, \"product_category_name\": \"moveis_decoracao\", \"payment_value\": 2154.03, \"is_max\": false}, {\"purchase_day\": 13, \"product_category_name\": \"cama_mesa_banho\", \"payment_value\": 2049.75, \"is_max\": false}, {\"purchase_day\": 13, \"product_category_name\": \"moveis_decoracao\", \"payment_value\": 2057.68, \"is_max\": false}, {\"purchase_day\": 14, \"product_category_name\": \"cama_mesa_banho\", \"payment_value\": 5211.67, \"is_max\": false}, {\"purchase_day\": 14, \"product_category_name\": \"moveis_decoracao\", \"payment_value\": 5586.79, \"is_max\": false}, {\"purchase_day\": 15, \"product_category_name\": \"moveis_decoracao\", \"payment_value\": 2160.05, \"is_max\": false}, {\"purchase_day\": 15, \"product_category_name\": \"cama_mesa_banho\", \"payment_value\": 2860.44, \"is_max\": false}, {\"purchase_day\": 16, \"product_category_name\": \"cama_mesa_banho\", \"payment_value\": 3247.16, \"is_max\": false}, {\"purchase_day\": 16, \"product_category_name\": \"moveis_decoracao\", \"payment_value\": 2619.26, \"is_max\": false}, {\"purchase_day\": 17, \"product_category_name\": \"cama_mesa_banho\", \"payment_value\": 3740.69, \"is_max\": false}, {\"purchase_day\": 17, \"product_category_name\": \"moveis_decoracao\", \"payment_value\": 9632.36, \"is_max\": false}, {\"purchase_day\": 18, \"product_category_name\": \"cama_mesa_banho\", \"payment_value\": 1763.83, \"is_max\": false}, {\"purchase_day\": 18, \"product_category_name\": \"moveis_decoracao\", \"payment_value\": 3108.74, \"is_max\": false}, {\"purchase_day\": 19, \"product_category_name\": \"cama_mesa_banho\", \"payment_value\": 1257.16, \"is_max\": false}, {\"purchase_day\": 19, \"product_category_name\": \"moveis_decoracao\", \"payment_value\": 2227.25, \"is_max\": false}, {\"purchase_day\": 20, \"product_category_name\": \"cama_mesa_banho\", \"payment_value\": 3235.63, \"is_max\": false}, {\"purchase_day\": 20, \"product_category_name\": \"moveis_decoracao\", \"payment_value\": 4623.6900000000005, \"is_max\": false}, {\"purchase_day\": 21, \"product_category_name\": \"cama_mesa_banho\", \"payment_value\": 2629.1, \"is_max\": false}, {\"purchase_day\": 21, \"product_category_name\": \"moveis_decoracao\", \"payment_value\": 11267.119999999999, \"is_max\": false}, {\"purchase_day\": 22, \"product_category_name\": \"moveis_decoracao\", \"payment_value\": 1815.3899999999999, \"is_max\": false}, {\"purchase_day\": 22, \"product_category_name\": \"cama_mesa_banho\", \"payment_value\": 2020.34, \"is_max\": false}, {\"purchase_day\": 23, \"product_category_name\": \"moveis_decoracao\", \"payment_value\": 22308.2, \"is_max\": false}, {\"purchase_day\": 23, \"product_category_name\": \"cama_mesa_banho\", \"payment_value\": 5187.13, \"is_max\": false}, {\"purchase_day\": 24, \"product_category_name\": \"cama_mesa_banho\", \"payment_value\": 30714.13, \"is_max\": true}, {\"purchase_day\": 24, \"product_category_name\": \"moveis_decoracao\", \"payment_value\": 28170.03, \"is_max\": true}, {\"purchase_day\": 25, \"product_category_name\": \"cama_mesa_banho\", \"payment_value\": 15205.48, \"is_max\": false}, {\"purchase_day\": 25, \"product_category_name\": \"moveis_decoracao\", \"payment_value\": 10065.15, \"is_max\": false}, {\"purchase_day\": 26, \"product_category_name\": \"cama_mesa_banho\", \"payment_value\": 8349.6, \"is_max\": false}, {\"purchase_day\": 26, \"product_category_name\": \"moveis_decoracao\", \"payment_value\": 6648.2300000000005, \"is_max\": false}, {\"purchase_day\": 27, \"product_category_name\": \"cama_mesa_banho\", \"payment_value\": 9132.78, \"is_max\": false}, {\"purchase_day\": 27, \"product_category_name\": \"moveis_decoracao\", \"payment_value\": 7372.97, \"is_max\": false}, {\"purchase_day\": 28, \"product_category_name\": \"cama_mesa_banho\", \"payment_value\": 5936.46, \"is_max\": false}, {\"purchase_day\": 28, \"product_category_name\": \"moveis_decoracao\", \"payment_value\": 4683.13, \"is_max\": false}, {\"purchase_day\": 29, \"product_category_name\": \"cama_mesa_banho\", \"payment_value\": 5245.04, \"is_max\": false}, {\"purchase_day\": 29, \"product_category_name\": \"moveis_decoracao\", \"payment_value\": 4692.59, \"is_max\": false}, {\"purchase_day\": 30, \"product_category_name\": \"cama_mesa_banho\", \"payment_value\": 3561.32, \"is_max\": false}, {\"purchase_day\": 30, \"product_category_name\": \"moveis_decoracao\", \"payment_value\": 3952.88, \"is_max\": false}], \"data-35e25874c2ef5f8c06cc1b633eb62c43\": [{\"text\": \"Total monthly selling : (cama_mesa_banho: 151,968.24 thousands)  &  (moveis_decoracao: 155,770.00 thousands)\"}]}}, {\"mode\": \"vega-lite\"});\n",
       "</script>"
      ],
      "text/plain": [
       "alt.VConcatChart(...)"
      ]
     },
     "metadata": {},
     "output_type": "display_data"
    }
   ],
   "source": [
    "# order_purchase_timestamp to datetime and extract the day number\n",
    "orders_df['order_purchase_timestamp'] = pd.to_datetime(orders_df['order_purchase_timestamp'])\n",
    "orders_df['purchase_day'] = orders_df['order_purchase_timestamp'].dt.day  # Keep only the day number\n",
    "\n",
    "# Filter orders for November 2017\n",
    "november_orders = orders_df[(orders_df['order_purchase_timestamp'] >= '2017-11-01') & \n",
    "                            (orders_df['order_purchase_timestamp'] < '2017-12-01')]\n",
    "\n",
    "# Merge datasets\n",
    "merged_df = pd.merge(november_orders[['order_id', 'purchase_day']], payments_df[['order_id', 'payment_value']], on='order_id')\n",
    "merged_df = pd.merge(merged_df, order_items_df[['order_id', 'product_id']], on='order_id')\n",
    "merged_df = pd.merge(merged_df, products_df[['product_id', 'product_category_name']], on='product_id')\n",
    "\n",
    "# Aggregate data\n",
    "daily_sales = merged_df.groupby(['purchase_day', 'product_category_name'], as_index=False)['payment_value'].sum()\n",
    "\n",
    "# the top two selling product categories\n",
    "top_categories = daily_sales.groupby('product_category_name')['payment_value'].sum().nlargest(2).index.tolist()\n",
    "\n",
    "# Filter for top categories\n",
    "filtered_sales = daily_sales[daily_sales['product_category_name'].isin(top_categories)]\n",
    "\n",
    "# Sort the DataFrame by purchase_day to maintain order on the x-axis\n",
    "filtered_sales = filtered_sales.sort_values('purchase_day')\n",
    "\n",
    "\n",
    "# Calculate maximum sales value for each category\n",
    "max_sales = filtered_sales.groupby('product_category_name')['payment_value'].transform('max')\n",
    "filtered_sales['is_max'] = filtered_sales['payment_value'] == max_sales\n",
    "\n",
    "total_sales_by_category = filtered_sales.groupby('product_category_name')['payment_value'].sum().reset_index()\n",
    "\n",
    "\n",
    "# text(note under the chart).\n",
    "intro_phrase = \"Total monthly selling : \"\n",
    "category_totals = \"  &  \".join([f\"({row['product_category_name']}: {row['payment_value']:,.2f} thousands)\" for index, row in total_sales_by_category.iterrows()])\n",
    "note_text = intro_phrase + category_totals\n",
    "\n",
    "note_df = pd.DataFrame({'text': [note_text]})\n",
    "\n",
    "\n",
    "# Create the heatmap \n",
    "# Create the heatmap with increased legend title font size\n",
    "heatmap = alt.Chart(filtered_sales).mark_rect().encode(\n",
    "    x=alt.X('purchase_day:O', title='Day of November', axis=alt.Axis(titleFontSize=18, labelFontSize=15)),\n",
    "    y=alt.Y('product_category_name:N', title='Product Category', axis=alt.Axis(titleFontSize=18, labelFontSize=15)),\n",
    "    color=alt.Color('payment_value:Q', title='PaymentValue', scale=alt.Scale(scheme='yellowgreenblue'),\n",
    "                    legend=alt.Legend(titleFontSize=17, labelFontSize=13)),  # Increase legend title font size here\n",
    "    tooltip=['purchase_day', 'product_category_name', 'payment_value']\n",
    ").properties(\n",
    "    title={\n",
    "      \"text\": ['Top Two Selling Categories in November 2017'],\n",
    "      \"subtitle\": ['Olist E-commerce in Brazil [Brazilian Currency]'],\n",
    "      \"color\": \"black\",\n",
    "      \"subtitleColor\": \"black\",\n",
    "      \"fontSize\": 22,\n",
    "      \"subtitleFontSize\": 19\n",
    "    },\n",
    "    width=900,\n",
    "    height=450\n",
    ")\n",
    "\n",
    "# Create text labels for each cell\n",
    "text_labels = alt.Chart(filtered_sales).mark_text(baseline='middle', angle=270).encode(\n",
    "    x=alt.X('purchase_day:O'),\n",
    "    y=alt.Y('product_category_name:N'),\n",
    "    text=alt.Text('payment_value:Q', format=',.0f'),\n",
    "    # Conditional color: if the value is maximum within the category, set color to white; otherwise, black\n",
    "    color=alt.condition(\n",
    "        alt.datum.is_max,  # Condition: if the row's payment_value is the maximum in its category\n",
    "        alt.value('white'),  # True value: white color\n",
    "        alt.value('black')   # False value: black color\n",
    "    )\n",
    ").properties(\n",
    "    width=900,\n",
    "    height=450\n",
    ")\n",
    "text_chart = alt.Chart(note_df).mark_text(size=18, align='left').encode(\n",
    "    text=alt.Text('text:N')\n",
    ").properties(\n",
    "    height=20 \n",
    ")\n",
    "\n",
    "# Combine the charts\n",
    "final_chart = alt.layer(heatmap, text_labels).resolve_scale(\n",
    "    x='shared',\n",
    "    y='shared'\n",
    ")\n",
    "final_chart_with_note = alt.vconcat(final_chart, text_chart, spacing=5)\n",
    "\n",
    "# Display the concatenated chart\n",
    "final_chart_with_note.display()\n",
    "\n",
    "\n",
    "\n"
   ]
  },
  {
   "cell_type": "code",
   "execution_count": null,
   "id": "f8322ca1",
   "metadata": {},
   "outputs": [],
   "source": []
  },
  {
   "cell_type": "code",
   "execution_count": null,
   "id": "491ffcd5",
   "metadata": {},
   "outputs": [],
   "source": []
  }
 ],
 "metadata": {
  "kernelspec": {
   "display_name": "Python 3 (ipykernel)",
   "language": "python",
   "name": "python3"
  },
  "language_info": {
   "codemirror_mode": {
    "name": "ipython",
    "version": 3
   },
   "file_extension": ".py",
   "mimetype": "text/x-python",
   "name": "python",
   "nbconvert_exporter": "python",
   "pygments_lexer": "ipython3",
   "version": "3.11.5"
  }
 },
 "nbformat": 4,
 "nbformat_minor": 5
}
